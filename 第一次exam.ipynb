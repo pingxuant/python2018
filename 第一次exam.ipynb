{
 "cells": [
  {
   "cell_type": "code",
   "execution_count": 10,
   "metadata": {},
   "outputs": [
    {
     "name": "stdout",
     "output_type": "stream",
     "text": [
      "001_ri1ak kanahei\n",
      "001_ri1ak kanahei\n",
      "END\n",
      "2\n"
     ]
    }
   ],
   "source": [
    "#3102\n",
    "# 001_ri1ak kanahei\n",
    "# 002_ri2ak kanahei\n",
    "# 005_m0cha pusheen\n",
    "# 004_me10dy sentimental_circus\n",
    "# 003_ri3ak kanahei\n",
    "# 006_ri4ak kanahei\n",
    "# 007_treapking pusheen\n",
    "# END\n",
    "\n",
    "\n",
    "lucky = {}\n",
    "people = {}\n",
    "\n",
    "while True:\n",
    "    data = input().split()\n",
    "    if data[0]=='END':\n",
    "        break\n",
    "    people[data[0]] = data[1]\n",
    "    if data[1] in lucky:\n",
    "        lucky[data[1]]+=1\n",
    "    else:\n",
    "        lucky[data[1]]=1\n",
    "\n",
    "people_sort = sorted(people.items(), key=lambda x: x[0])\n",
    "\n",
    "for pp in people_sort:\n",
    "    print(lucky[pp[1]])\n"
   ]
  },
  {
   "cell_type": "code",
   "execution_count": 24,
   "metadata": {},
   "outputs": [
    {
     "name": "stdout",
     "output_type": "stream",
     "text": [
      "1\n",
      "1 = 1\n"
     ]
    }
   ],
   "source": [
    "#3106\n",
    "\n",
    "num = int(input())\n",
    "prime = 2\n",
    "print(num,'= ',end='')\n",
    "while num!=prime and num>=prime:\n",
    "    if num%prime==0:\n",
    "        num/=prime\n",
    "        print(prime,end='*')\n",
    "    else:\n",
    "        prime+=1\n",
    "print(int(num))\n",
    "\n",
    "\n",
    "        \n",
    "\n"
   ]
  },
  {
   "cell_type": "code",
   "execution_count": 25,
   "metadata": {},
   "outputs": [
    {
     "name": "stdout",
     "output_type": "stream",
     "text": [
      "2\n",
      "8 12\n"
     ]
    }
   ],
   "source": [
    "#3103\n",
    "num = int(input())\n",
    "if num%3==0:\n",
    "    print(num*10,0)\n",
    "elif num%3==1:\n",
    "    print(num*5,num*5)\n",
    "else:\n",
    "    print(num*4,num*6)\n",
    "    \n"
   ]
  },
  {
   "cell_type": "code",
   "execution_count": 31,
   "metadata": {},
   "outputs": [
    {
     "name": "stdout",
     "output_type": "stream",
     "text": [
      "0 0 0 0 0 0 0 0 2\n",
      "0 7 0 8 0 0 0 0 5\n",
      "0 1 8 7 4 0 0 0 0\n",
      "0 0 1 0 0 5 8 3 0\n",
      "0 0 0 3 0 6 0 0 0\n",
      "2 0 0 0 1 7 0 5 4\n",
      "0 0 5 0 0 0 0 0 0\n",
      "0 0 6 0 3 0 0 4 0\n",
      "8 0 0 0 0 1 0 9 0\n",
      "3\n",
      "4 2 1\n",
      "4 3\n",
      "2 2\n",
      "4 2 2\n",
      "You can put it!\n",
      "5 2 2\n",
      "3 2\n",
      "54\n"
     ]
    }
   ],
   "source": [
    "#3107\n",
    "sudo = []\n",
    "for i in range(9):\n",
    "    sudo.extend(input().split())\n",
    "    \n",
    "num = int(input())\n",
    "for i in range(num):\n",
    "    comm = input().split()\n",
    "    y = int(comm[0])\n",
    "    x = int(comm[1])\n",
    "    tmp = 0\n",
    "    for row in range(9):\n",
    "        if sudo[(y-1)*9+row]==comm[2]:\n",
    "            print(y,row+1)\n",
    "            tmp+=1\n",
    "    for column in range(9):\n",
    "        if sudo[column*9+x-1]==comm[2]:\n",
    "            print(column+1,x)\n",
    "            tmp+=1\n",
    "    if tmp==0:\n",
    "        print('You can put it!')\n",
    "        sudo[(y-1)*9+x-1] = comm[2]\n",
    "            \n",
    "print(sudo.count('0'))\n",
    "\n",
    "\n",
    "# 0 0 0 0 0 0 0 0 2\n",
    "# 0 7 0 8 0 0 0 0 5\n",
    "# 0 1 8 7 4 0 0 0 0\n",
    "# 0 0 1 0 0 5 8 3 0\n",
    "# 0 0 0 3 0 6 0 0 0\n",
    "# 2 0 0 0 1 7 0 5 4\n",
    "# 0 0 5 0 0 0 0 0 0\n",
    "# 0 0 6 0 3 0 0 4 0\n",
    "# 8 0 0 0 0 1 0 9 0\n",
    "# 3\n",
    "# 4 2 1\n",
    "# 4 2 2\n",
    "# 5 2 2\n",
    "\n"
   ]
  }
 ],
 "metadata": {
  "kernelspec": {
   "display_name": "Python 3",
   "language": "python",
   "name": "python3"
  },
  "language_info": {
   "codemirror_mode": {
    "name": "ipython",
    "version": 3
   },
   "file_extension": ".py",
   "mimetype": "text/x-python",
   "name": "python",
   "nbconvert_exporter": "python",
   "pygments_lexer": "ipython3",
   "version": "3.6.2"
  }
 },
 "nbformat": 4,
 "nbformat_minor": 2
}
